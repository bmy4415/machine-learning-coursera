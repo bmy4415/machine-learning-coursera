{
 "cells": [
  {
   "cell_type": "code",
   "execution_count": 5,
   "metadata": {},
   "outputs": [
    {
     "data": {
      "text/plain": [
       "80"
      ]
     },
     "execution_count": 5,
     "metadata": {},
     "output_type": "execute_result"
    }
   ],
   "source": [
    "# get news file names\n",
    "import os\n",
    "def get_filenames(dir_name):\n",
    "    return os.listdir(dir_name)\n",
    "    \n",
    "dir_name = 'news_data'\n",
    "filenames = get_filenames(dir_name)\n",
    "filenames = [os.path.join(dir_name, f) for f in filenames]\n",
    "len(filenames)"
   ]
  },
  {
   "cell_type": "code",
   "execution_count": 24,
   "metadata": {},
   "outputs": [
    {
     "name": "stdout",
     "output_type": "stream",
     "text": [
      "0 It was not the shot heard around the world, it was not a playoff clinching hit or a season turning moment as far as we can tell. What we do know for certain is that Seattle Mariner first baseman Dae-Ho Lee's walk-off homer two-run homer with two outs in the bottom of the 10th inning Wednesday afternoon snapped a five game home losing streak and gave the M's (3-6) a 4-2 win over the Texas Rangers (5-5) for their first win at home.\n",
      "\n",
      "The walk-off wonder strike by the 6-foot-4, 250-pound Korean national was a gem of a gift to the 15, 075 Mariner faithful who showed up to cheer their team despite watching one of the worst home opening series by Mariners. The M's team batting average during the home stand was a dismal .170 average with a home run percentage of 0.8 and an ERA of 4.50.\n",
      "\n",
      "\"We really, really needed it,\" manager Scott Servais said of the win and a players-only meeting that was held after an 8-0 loss to Texas on Tuesday. \"It was an important game. The guys got together after the game( Tuesday night) and talked about some things and they really wanted to get out and get it done today.\"\n",
      "\n",
      "Robinson Cano broke out of his homestand slump with a fifth-inning home run off of Rangers starter A.J. Griffin to give the Mariners a 2-1 lead. Cano was 2-for-21 on the six-game homestand before that long ball.\n",
      "\n",
      "As has been the case during the home stand the Mariners bullpen surrendered the lead in the eight when Delino Deshields hit a leadoff home run against Mariner reliever Joel Peralta to tie the game at 2-all before Lee's heroics.\n",
      "\n",
      "Seattle starter Taijuan Walker had a decent start pitching six innings, giving up five hits, one earned run, struck out four batter while walked two. Steve Cishek (1-1) pitched two scoreless innings and was credit with the win.\n",
      "\n",
      "Seattle will use Thursday as a travel day to New York, where they will take on the Yankees for a three game series. Right-hander Nathan Karns gets the start in Friday's series opener at 4:05 p.m. PT on Jackie Robinson Day. Texas returns home for a three game series with the Baltimore Orioles starting on Thursday night.\n"
     ]
    }
   ],
   "source": [
    "# given list of filenames, return (list of text, list of class)\n",
    "# class: 0(baseball), 1(soccer)\n",
    "def get_contents(filenames):\n",
    "    x, y = [], []\n",
    "    for file in filenames:\n",
    "        try:\n",
    "            # use cp949 encoding because txt file was created at window OS\n",
    "            with open(file, 'r', encoding='cp949') as f:\n",
    "                y_class = file.split(os.sep)[1].split('_')[0]\n",
    "                y_class = 0 if int(y_class) <= 4 else 1\n",
    "                x.append(f.read())\n",
    "                y.append(y_class)\n",
    "\n",
    "        except Exception as e:\n",
    "            print(file, e)\n",
    "            \n",
    "    return x, y\n",
    "            \n",
    "x, y = get_contents(filenames)\n",
    "print(y[0], x[0])"
   ]
  },
  {
   "cell_type": "code",
   "execution_count": 54,
   "metadata": {
    "scrolled": false
   },
   "outputs": [],
   "source": [
    "import string\n",
    "\n",
    "\n",
    "# clean given string\n",
    "def get_cleaned_text(text):\n",
    "    # str.maketrans(x1, x2, x3)\n",
    "    # map char in x1 to char in x2 and remove x3\n",
    "    text = text.translate(str.maketrans('', '', string.punctuation)) # remove punctuation\n",
    "    text = text.lower() # lower case\n",
    "    text = [word for word in text.split() if len(word) > 1] # remove 1-char, e.g. 'a'\n",
    "    text = [word for word in text if word.isalpha()] # remove number\n",
    "    text = ' '.join(text)\n",
    "    return text\n",
    "    \n",
    "\n",
    "# given list of document, return word_to_idx dict\n",
    "def get_corpus_dict(docs):\n",
    "    words = set()\n",
    "    for doc in docs:\n",
    "        doc = get_cleaned_text(doc)\n",
    "        words.update([w for w in doc.split()])\n",
    "\n",
    "    words = list(words)\n",
    "    return { word:idx for (idx, word) in enumerate(words) }\n",
    "\n",
    "corpus_dict = get_corpus_dict(x)"
   ]
  },
  {
   "cell_type": "code",
   "execution_count": 62,
   "metadata": {},
   "outputs": [],
   "source": [
    "# return vector which represents given document\n",
    "def doc_to_vec(doc, corpus_dict):\n",
    "    vec = [0] * len(corpus_dict)\n",
    "    doc = get_cleaned_text(doc)\n",
    "    for word in doc.split():\n",
    "        idx = corpus_dict[word]\n",
    "        vec[idx] += 1\n",
    "        \n",
    "    return vec"
   ]
  },
  {
   "cell_type": "code",
   "execution_count": 71,
   "metadata": {},
   "outputs": [
    {
     "data": {
      "text/plain": [
       "1.0"
      ]
     },
     "execution_count": 71,
     "metadata": {},
     "output_type": "execute_result"
    }
   ],
   "source": [
    "import math\n",
    "\n",
    "# return cosine similarity between 2 vector\n",
    "def cosine_sim(v1, v2):\n",
    "    inner_prod = sum(a*b for (a,b) in zip(v1, v2))\n",
    "    size_v1 = math.sqrt(sum(a**2 for a in v1))\n",
    "    size_v2 = math.sqrt(sum(a**2 for a in v2))\n",
    "    \n",
    "    return inner_prod / (size_v1 * size_v2)\n",
    "    \n",
    "cosine_sim([1,0], [1,0])"
   ]
  },
  {
   "cell_type": "code",
   "execution_count": 84,
   "metadata": {},
   "outputs": [
    {
     "name": "stderr",
     "output_type": "stream",
     "text": [
      "100%|██████████| 80/80 [00:30<00:00,  2.69it/s]"
     ]
    },
    {
     "name": "stdout",
     "output_type": "stream",
     "text": [
      "0.70125\n"
     ]
    },
    {
     "name": "stderr",
     "output_type": "stream",
     "text": [
      "\n"
     ]
    }
   ],
   "source": [
    "# for given doc, find top-n similar document and select class: 0(baseball), 1(soccer)\n",
    "from tqdm import tqdm\n",
    "\n",
    "n = 10\n",
    "ans = 0\n",
    "count = 0\n",
    "for i in tqdm(range(80)):\n",
    "    doc1 = x[i]\n",
    "    y_class = y[i]\n",
    "    vec1 = doc_to_vec(doc1, corpus_dict)\n",
    "    vec2s = [doc_to_vec(doc2, corpus_dict) for doc2 in x]\n",
    "    sims = [cosine_sim(vec1, vec2) for vec2 in vec2s]\n",
    "    topn = sorted(enumerate(sims), key=lambda x: -x[1])[1:n+1] # order by cosine-similarity DESC\n",
    "    topn = [x[0] for x in topn] # remain index of document\n",
    "    \n",
    "    # for accuracy\n",
    "    for idx in topn:\n",
    "        y_pred = y[idx]\n",
    "        if y_pred == y_class:\n",
    "            ans += 1\n",
    "    count += n\n",
    "        \n",
    "print(ans / count)"
   ]
  },
  {
   "cell_type": "code",
   "execution_count": null,
   "metadata": {},
   "outputs": [],
   "source": []
  }
 ],
 "metadata": {
  "kernelspec": {
   "display_name": "Python 3",
   "language": "python",
   "name": "python3"
  },
  "language_info": {
   "codemirror_mode": {
    "name": "ipython",
    "version": 3
   },
   "file_extension": ".py",
   "mimetype": "text/x-python",
   "name": "python",
   "nbconvert_exporter": "python",
   "pygments_lexer": "ipython3",
   "version": "3.5.4"
  }
 },
 "nbformat": 4,
 "nbformat_minor": 2
}
