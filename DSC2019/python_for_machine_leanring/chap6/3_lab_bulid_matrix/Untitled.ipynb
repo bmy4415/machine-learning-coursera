{
 "cells": [
  {
   "cell_type": "code",
   "execution_count": 1,
   "metadata": {},
   "outputs": [],
   "source": [
    "import numpy as np\n",
    "import pandas as pd\n",
    "\n",
    "\n",
    "def get_rating_matrix(filename, dtype=np.float32):\n",
    "    df = pd.read_csv(filename)\n",
    "    df = df.groupby(['source', 'target'])['rating'].first().unstack().fillna(0)\n",
    "    return df.values\n",
    "\n",
    "\n",
    "def get_frequent_matrix(filename, dtype=np.float32):\n",
    "    pass\n"
   ]
  },
  {
   "cell_type": "code",
   "execution_count": 51,
   "metadata": {},
   "outputs": [
    {
     "data": {
      "text/html": [
       "<div>\n",
       "<style scoped>\n",
       "    .dataframe tbody tr th:only-of-type {\n",
       "        vertical-align: middle;\n",
       "    }\n",
       "\n",
       "    .dataframe tbody tr th {\n",
       "        vertical-align: top;\n",
       "    }\n",
       "\n",
       "    .dataframe thead th {\n",
       "        text-align: right;\n",
       "    }\n",
       "</style>\n",
       "<table border=\"1\" class=\"dataframe\">\n",
       "  <thead>\n",
       "    <tr style=\"text-align: right;\">\n",
       "      <th></th>\n",
       "      <th>source</th>\n",
       "      <th>target</th>\n",
       "      <th>rating</th>\n",
       "    </tr>\n",
       "  </thead>\n",
       "  <tbody>\n",
       "    <tr>\n",
       "      <th>0</th>\n",
       "      <td>3</td>\n",
       "      <td>7</td>\n",
       "      <td>1</td>\n",
       "    </tr>\n",
       "    <tr>\n",
       "      <th>1</th>\n",
       "      <td>4</td>\n",
       "      <td>15</td>\n",
       "      <td>1</td>\n",
       "    </tr>\n",
       "    <tr>\n",
       "      <th>2</th>\n",
       "      <td>2</td>\n",
       "      <td>49</td>\n",
       "      <td>1</td>\n",
       "    </tr>\n",
       "    <tr>\n",
       "      <th>3</th>\n",
       "      <td>5</td>\n",
       "      <td>44</td>\n",
       "      <td>1</td>\n",
       "    </tr>\n",
       "    <tr>\n",
       "      <th>4</th>\n",
       "      <td>1</td>\n",
       "      <td>1</td>\n",
       "      <td>1</td>\n",
       "    </tr>\n",
       "  </tbody>\n",
       "</table>\n",
       "</div>"
      ],
      "text/plain": [
       "   source  target  rating\n",
       "0       3       7       1\n",
       "1       4      15       1\n",
       "2       2      49       1\n",
       "3       5      44       1\n",
       "4       1       1       1"
      ]
     },
     "execution_count": 51,
     "metadata": {},
     "output_type": "execute_result"
    }
   ],
   "source": [
    "df = pd.read_csv('1000i.csv')\n",
    "df['rating'] = 1\n",
    "df.head()"
   ]
  },
  {
   "cell_type": "code",
   "execution_count": 55,
   "metadata": {
    "scrolled": false
   },
   "outputs": [
    {
     "name": "stdout",
     "output_type": "stream",
     "text": [
      "<class 'pandas.core.frame.DataFrame'>\n",
      "Int64Index: 5 entries, 1 to 5\n",
      "Data columns (total 50 columns):\n",
      "(rating, 0)     5 non-null int64\n",
      "(rating, 1)     5 non-null int64\n",
      "(rating, 2)     5 non-null int64\n",
      "(rating, 3)     5 non-null int64\n",
      "(rating, 4)     5 non-null int64\n",
      "(rating, 5)     5 non-null int64\n",
      "(rating, 6)     5 non-null int64\n",
      "(rating, 7)     5 non-null int64\n",
      "(rating, 8)     5 non-null int64\n",
      "(rating, 9)     5 non-null int64\n",
      "(rating, 10)    5 non-null int64\n",
      "(rating, 11)    5 non-null int64\n",
      "(rating, 12)    5 non-null int64\n",
      "(rating, 13)    5 non-null int64\n",
      "(rating, 14)    5 non-null int64\n",
      "(rating, 15)    5 non-null int64\n",
      "(rating, 16)    5 non-null int64\n",
      "(rating, 17)    5 non-null int64\n",
      "(rating, 18)    5 non-null int64\n",
      "(rating, 19)    5 non-null int64\n",
      "(rating, 20)    5 non-null int64\n",
      "(rating, 21)    5 non-null int64\n",
      "(rating, 22)    5 non-null int64\n",
      "(rating, 23)    5 non-null int64\n",
      "(rating, 24)    5 non-null int64\n",
      "(rating, 25)    5 non-null int64\n",
      "(rating, 26)    5 non-null int64\n",
      "(rating, 27)    5 non-null int64\n",
      "(rating, 28)    5 non-null int64\n",
      "(rating, 29)    5 non-null int64\n",
      "(rating, 30)    5 non-null int64\n",
      "(rating, 31)    5 non-null int64\n",
      "(rating, 32)    5 non-null int64\n",
      "(rating, 33)    5 non-null int64\n",
      "(rating, 34)    5 non-null int64\n",
      "(rating, 35)    5 non-null int64\n",
      "(rating, 36)    5 non-null int64\n",
      "(rating, 37)    5 non-null int64\n",
      "(rating, 38)    5 non-null int64\n",
      "(rating, 39)    5 non-null int64\n",
      "(rating, 40)    5 non-null int64\n",
      "(rating, 41)    5 non-null int64\n",
      "(rating, 42)    5 non-null int64\n",
      "(rating, 43)    5 non-null int64\n",
      "(rating, 44)    5 non-null int64\n",
      "(rating, 45)    5 non-null int64\n",
      "(rating, 46)    5 non-null int64\n",
      "(rating, 47)    5 non-null int64\n",
      "(rating, 48)    5 non-null int64\n",
      "(rating, 49)    5 non-null int64\n",
      "dtypes: int64(50)\n",
      "memory usage: 2.0 KB\n"
     ]
    }
   ],
   "source": [
    "df.groupby(['source', 'target']).count().unstack().info()"
   ]
  },
  {
   "cell_type": "code",
   "execution_count": null,
   "metadata": {},
   "outputs": [],
   "source": []
  }
 ],
 "metadata": {
  "kernelspec": {
   "display_name": "Python 3",
   "language": "python",
   "name": "python3"
  },
  "language_info": {
   "codemirror_mode": {
    "name": "ipython",
    "version": 3
   },
   "file_extension": ".py",
   "mimetype": "text/x-python",
   "name": "python",
   "nbconvert_exporter": "python",
   "pygments_lexer": "ipython3",
   "version": "3.5.4"
  }
 },
 "nbformat": 4,
 "nbformat_minor": 2
}
